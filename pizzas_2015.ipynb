{
 "cells": [
  {
   "cell_type": "markdown",
   "metadata": {},
   "source": [
    "## Import Libraries"
   ]
  },
  {
   "cell_type": "code",
   "execution_count": 1,
   "metadata": {},
   "outputs": [],
   "source": [
    "import re\n",
    "import json\n",
    "import pandas as pd\n",
    "import numpy as np\n",
    "already_multiplied = False"
   ]
  },
  {
   "cell_type": "markdown",
   "metadata": {},
   "source": [
    "## Extract Data"
   ]
  },
  {
   "cell_type": "code",
   "execution_count": 2,
   "metadata": {},
   "outputs": [],
   "source": [
    "orders = pd.read_csv(\"data/orders_2015.csv\", encoding=\"latin-1\")\n",
    "order_details = pd.read_csv(\"data/order_details_2015.csv\", encoding=\"latin-1\")\n",
    "pizza_ingredients = pd.read_csv(\"data/pizza_types.csv\", encoding=\"latin-1\")"
   ]
  },
  {
   "cell_type": "markdown",
   "metadata": {},
   "source": [
    "### Informe Calidad de Datos"
   ]
  },
  {
   "cell_type": "code",
   "execution_count": 3,
   "metadata": {},
   "outputs": [],
   "source": [
    "informe = {\"orders\":{}, \"order_details\":{}, \"pizza_types\":{}}"
   ]
  },
  {
   "cell_type": "markdown",
   "metadata": {},
   "source": [
    "#### orders.csv"
   ]
  },
  {
   "cell_type": "code",
   "execution_count": 4,
   "metadata": {},
   "outputs": [
    {
     "data": {
      "text/html": [
       "<div>\n",
       "<style scoped>\n",
       "    .dataframe tbody tr th:only-of-type {\n",
       "        vertical-align: middle;\n",
       "    }\n",
       "\n",
       "    .dataframe tbody tr th {\n",
       "        vertical-align: top;\n",
       "    }\n",
       "\n",
       "    .dataframe thead th {\n",
       "        text-align: right;\n",
       "    }\n",
       "</style>\n",
       "<table border=\"1\" class=\"dataframe\">\n",
       "  <thead>\n",
       "    <tr style=\"text-align: right;\">\n",
       "      <th></th>\n",
       "      <th>order_id</th>\n",
       "      <th>date</th>\n",
       "      <th>time</th>\n",
       "    </tr>\n",
       "  </thead>\n",
       "  <tbody>\n",
       "    <tr>\n",
       "      <th>0</th>\n",
       "      <td>1</td>\n",
       "      <td>01/01/2015</td>\n",
       "      <td>11:38:36</td>\n",
       "    </tr>\n",
       "    <tr>\n",
       "      <th>1</th>\n",
       "      <td>2</td>\n",
       "      <td>01/01/2015</td>\n",
       "      <td>11:57:40</td>\n",
       "    </tr>\n",
       "    <tr>\n",
       "      <th>2</th>\n",
       "      <td>3</td>\n",
       "      <td>01/01/2015</td>\n",
       "      <td>12:12:28</td>\n",
       "    </tr>\n",
       "    <tr>\n",
       "      <th>3</th>\n",
       "      <td>4</td>\n",
       "      <td>01/01/2015</td>\n",
       "      <td>12:16:31</td>\n",
       "    </tr>\n",
       "    <tr>\n",
       "      <th>4</th>\n",
       "      <td>5</td>\n",
       "      <td>01/01/2015</td>\n",
       "      <td>12:21:30</td>\n",
       "    </tr>\n",
       "  </tbody>\n",
       "</table>\n",
       "</div>"
      ],
      "text/plain": [
       "   order_id        date      time\n",
       "0         1  01/01/2015  11:38:36\n",
       "1         2  01/01/2015  11:57:40\n",
       "2         3  01/01/2015  12:12:28\n",
       "3         4  01/01/2015  12:16:31\n",
       "4         5  01/01/2015  12:21:30"
      ]
     },
     "execution_count": 4,
     "metadata": {},
     "output_type": "execute_result"
    }
   ],
   "source": [
    "informe[\"orders\"][\"desciption\"] = \"csv with every order made in 2015\"\n",
    "informe[\"orders\"][\"n_rows\"] = orders.shape[0]\n",
    "informe[\"orders\"][\"n_columns\"] = orders.shape[1]\n",
    "informe[\"orders\"][\"columns\"] = {}\n",
    "orders.head()"
   ]
  },
  {
   "cell_type": "markdown",
   "metadata": {},
   "source": [
    "order_id"
   ]
  },
  {
   "cell_type": "code",
   "execution_count": 5,
   "metadata": {},
   "outputs": [],
   "source": [
    "informe[\"orders\"][\"columns\"][\"order_id\"] = {}\n",
    "informe[\"orders\"][\"columns\"][\"order_id\"][\"description\"] = \"unique id for each order\"\n",
    "informe[\"orders\"][\"columns\"][\"order_id\"][\"n_nulls\"] = orders[\"order_id\"].isnull().sum()\n",
    "informe[\"orders\"][\"columns\"][\"order_id\"][\"n_unique\"] = orders[\"order_id\"].nunique()"
   ]
  },
  {
   "cell_type": "markdown",
   "metadata": {},
   "source": [
    "date"
   ]
  },
  {
   "cell_type": "code",
   "execution_count": 6,
   "metadata": {},
   "outputs": [],
   "source": [
    "informe[\"orders\"][\"columns\"][\"date\"] = {}\n",
    "informe[\"orders\"][\"columns\"][\"date\"][\"description\"] = \"date of the order\"\n",
    "informe[\"orders\"][\"columns\"][\"date\"][\"n_nulls\"] = orders[\"date\"].isnull().sum()\n",
    "informe[\"orders\"][\"columns\"][\"date\"][\"n_unique\"] = orders[\"date\"].nunique()"
   ]
  },
  {
   "cell_type": "markdown",
   "metadata": {},
   "source": [
    "time"
   ]
  },
  {
   "cell_type": "code",
   "execution_count": 7,
   "metadata": {},
   "outputs": [],
   "source": [
    "informe[\"orders\"][\"columns\"][\"time\"] = {}\n",
    "informe[\"orders\"][\"columns\"][\"time\"][\"description\"] = \"exact time of the order\"\n",
    "informe[\"orders\"][\"columns\"][\"time\"][\"n_nulls\"] = orders[\"time\"].isnull().sum()\n",
    "informe[\"orders\"][\"columns\"][\"time\"][\"n_unique\"] = orders[\"time\"].nunique()"
   ]
  },
  {
   "cell_type": "markdown",
   "metadata": {},
   "source": [
    "#### order_details.csv"
   ]
  },
  {
   "cell_type": "code",
   "execution_count": 8,
   "metadata": {},
   "outputs": [
    {
     "data": {
      "text/html": [
       "<div>\n",
       "<style scoped>\n",
       "    .dataframe tbody tr th:only-of-type {\n",
       "        vertical-align: middle;\n",
       "    }\n",
       "\n",
       "    .dataframe tbody tr th {\n",
       "        vertical-align: top;\n",
       "    }\n",
       "\n",
       "    .dataframe thead th {\n",
       "        text-align: right;\n",
       "    }\n",
       "</style>\n",
       "<table border=\"1\" class=\"dataframe\">\n",
       "  <thead>\n",
       "    <tr style=\"text-align: right;\">\n",
       "      <th></th>\n",
       "      <th>order_details_id</th>\n",
       "      <th>order_id</th>\n",
       "      <th>pizza_id</th>\n",
       "      <th>quantity</th>\n",
       "    </tr>\n",
       "  </thead>\n",
       "  <tbody>\n",
       "    <tr>\n",
       "      <th>0</th>\n",
       "      <td>1</td>\n",
       "      <td>1</td>\n",
       "      <td>hawaiian_m</td>\n",
       "      <td>1</td>\n",
       "    </tr>\n",
       "    <tr>\n",
       "      <th>1</th>\n",
       "      <td>2</td>\n",
       "      <td>2</td>\n",
       "      <td>classic_dlx_m</td>\n",
       "      <td>1</td>\n",
       "    </tr>\n",
       "    <tr>\n",
       "      <th>2</th>\n",
       "      <td>3</td>\n",
       "      <td>2</td>\n",
       "      <td>five_cheese_l</td>\n",
       "      <td>1</td>\n",
       "    </tr>\n",
       "    <tr>\n",
       "      <th>3</th>\n",
       "      <td>4</td>\n",
       "      <td>2</td>\n",
       "      <td>ital_supr_l</td>\n",
       "      <td>1</td>\n",
       "    </tr>\n",
       "    <tr>\n",
       "      <th>4</th>\n",
       "      <td>5</td>\n",
       "      <td>2</td>\n",
       "      <td>mexicana_m</td>\n",
       "      <td>1</td>\n",
       "    </tr>\n",
       "  </tbody>\n",
       "</table>\n",
       "</div>"
      ],
      "text/plain": [
       "   order_details_id  order_id       pizza_id  quantity\n",
       "0                 1         1     hawaiian_m         1\n",
       "1                 2         2  classic_dlx_m         1\n",
       "2                 3         2  five_cheese_l         1\n",
       "3                 4         2    ital_supr_l         1\n",
       "4                 5         2     mexicana_m         1"
      ]
     },
     "execution_count": 8,
     "metadata": {},
     "output_type": "execute_result"
    }
   ],
   "source": [
    "informe[\"order_details\"][\"desciption\"] = \"csv with information about each order made in 2015\"\n",
    "informe[\"order_details\"][\"n_rows\"] = order_details.shape[0]\n",
    "informe[\"order_details\"][\"n_columns\"] = order_details.shape[1]\n",
    "informe[\"order_details\"][\"columns\"] = {}\n",
    "order_details.head()"
   ]
  },
  {
   "cell_type": "markdown",
   "metadata": {},
   "source": [
    "order_details_id"
   ]
  },
  {
   "cell_type": "code",
   "execution_count": 9,
   "metadata": {},
   "outputs": [],
   "source": [
    "informe[\"order_details\"][\"columns\"][\"order_details_id\"] = {}\n",
    "informe[\"order_details\"][\"columns\"][\"order_details_id\"][\"description\"] = \"unique id for each pizza in each order\"\n",
    "informe[\"order_details\"][\"columns\"][\"order_details_id\"][\"n_nulls\"] = order_details[\"order_details_id\"].isnull().sum()\n",
    "informe[\"order_details\"][\"columns\"][\"order_details_id\"][\"n_unique\"] = order_details[\"order_details_id\"].nunique()"
   ]
  },
  {
   "cell_type": "markdown",
   "metadata": {},
   "source": [
    "order_id"
   ]
  },
  {
   "cell_type": "code",
   "execution_count": 10,
   "metadata": {},
   "outputs": [],
   "source": [
    "informe[\"order_details\"][\"columns\"][\"order_id\"] = {}\n",
    "informe[\"order_details\"][\"columns\"][\"order_id\"][\"description\"] = \"unique id for each order\"\n",
    "informe[\"order_details\"][\"columns\"][\"order_id\"][\"n_nulls\"] = order_details[\"order_id\"].isnull().sum()\n",
    "informe[\"order_details\"][\"columns\"][\"order_id\"][\"n_unique\"] = order_details[\"order_id\"].nunique()"
   ]
  },
  {
   "cell_type": "markdown",
   "metadata": {},
   "source": [
    "pizza_id"
   ]
  },
  {
   "cell_type": "code",
   "execution_count": 11,
   "metadata": {},
   "outputs": [],
   "source": [
    "informe[\"order_details\"][\"columns\"][\"pizza_id\"] = {}\n",
    "informe[\"order_details\"][\"columns\"][\"pizza_id\"][\"description\"] = \"unique id for each pizza and size\"\n",
    "informe[\"order_details\"][\"columns\"][\"pizza_id\"][\"n_nulls\"] = order_details[\"pizza_id\"].isnull().sum()\n",
    "informe[\"order_details\"][\"columns\"][\"pizza_id\"][\"n_unique\"] = order_details[\"pizza_id\"].nunique()"
   ]
  },
  {
   "cell_type": "markdown",
   "metadata": {},
   "source": [
    "quantity"
   ]
  },
  {
   "cell_type": "code",
   "execution_count": 12,
   "metadata": {},
   "outputs": [],
   "source": [
    "informe[\"order_details\"][\"columns\"][\"quantity\"] = {}\n",
    "informe[\"order_details\"][\"columns\"][\"quantity\"][\"description\"] = \"number of pizzas ordered\"\n",
    "informe[\"order_details\"][\"columns\"][\"quantity\"][\"n_nulls\"] = order_details[\"quantity\"].isnull().sum()\n",
    "informe[\"order_details\"][\"columns\"][\"quantity\"][\"n_unique\"] = order_details[\"quantity\"].nunique()"
   ]
  },
  {
   "cell_type": "markdown",
   "metadata": {},
   "source": [
    "#### pizza_types.csv"
   ]
  },
  {
   "cell_type": "code",
   "execution_count": 13,
   "metadata": {},
   "outputs": [
    {
     "data": {
      "text/html": [
       "<div>\n",
       "<style scoped>\n",
       "    .dataframe tbody tr th:only-of-type {\n",
       "        vertical-align: middle;\n",
       "    }\n",
       "\n",
       "    .dataframe tbody tr th {\n",
       "        vertical-align: top;\n",
       "    }\n",
       "\n",
       "    .dataframe thead th {\n",
       "        text-align: right;\n",
       "    }\n",
       "</style>\n",
       "<table border=\"1\" class=\"dataframe\">\n",
       "  <thead>\n",
       "    <tr style=\"text-align: right;\">\n",
       "      <th></th>\n",
       "      <th>pizza_type_id</th>\n",
       "      <th>name</th>\n",
       "      <th>category</th>\n",
       "      <th>ingredients</th>\n",
       "    </tr>\n",
       "  </thead>\n",
       "  <tbody>\n",
       "    <tr>\n",
       "      <th>0</th>\n",
       "      <td>bbq_ckn</td>\n",
       "      <td>The Barbecue Chicken Pizza</td>\n",
       "      <td>Chicken</td>\n",
       "      <td>Barbecued Chicken, Red Peppers, Green Peppers,...</td>\n",
       "    </tr>\n",
       "    <tr>\n",
       "      <th>1</th>\n",
       "      <td>cali_ckn</td>\n",
       "      <td>The California Chicken Pizza</td>\n",
       "      <td>Chicken</td>\n",
       "      <td>Chicken, Artichoke, Spinach, Garlic, Jalapeno ...</td>\n",
       "    </tr>\n",
       "    <tr>\n",
       "      <th>2</th>\n",
       "      <td>ckn_alfredo</td>\n",
       "      <td>The Chicken Alfredo Pizza</td>\n",
       "      <td>Chicken</td>\n",
       "      <td>Chicken, Red Onions, Red Peppers, Mushrooms, A...</td>\n",
       "    </tr>\n",
       "    <tr>\n",
       "      <th>3</th>\n",
       "      <td>ckn_pesto</td>\n",
       "      <td>The Chicken Pesto Pizza</td>\n",
       "      <td>Chicken</td>\n",
       "      <td>Chicken, Tomatoes, Red Peppers, Spinach, Garli...</td>\n",
       "    </tr>\n",
       "    <tr>\n",
       "      <th>4</th>\n",
       "      <td>southw_ckn</td>\n",
       "      <td>The Southwest Chicken Pizza</td>\n",
       "      <td>Chicken</td>\n",
       "      <td>Chicken, Tomatoes, Red Peppers, Red Onions, Ja...</td>\n",
       "    </tr>\n",
       "  </tbody>\n",
       "</table>\n",
       "</div>"
      ],
      "text/plain": [
       "  pizza_type_id                          name category  \\\n",
       "0       bbq_ckn    The Barbecue Chicken Pizza  Chicken   \n",
       "1      cali_ckn  The California Chicken Pizza  Chicken   \n",
       "2   ckn_alfredo     The Chicken Alfredo Pizza  Chicken   \n",
       "3     ckn_pesto       The Chicken Pesto Pizza  Chicken   \n",
       "4    southw_ckn   The Southwest Chicken Pizza  Chicken   \n",
       "\n",
       "                                         ingredients  \n",
       "0  Barbecued Chicken, Red Peppers, Green Peppers,...  \n",
       "1  Chicken, Artichoke, Spinach, Garlic, Jalapeno ...  \n",
       "2  Chicken, Red Onions, Red Peppers, Mushrooms, A...  \n",
       "3  Chicken, Tomatoes, Red Peppers, Spinach, Garli...  \n",
       "4  Chicken, Tomatoes, Red Peppers, Red Onions, Ja...  "
      ]
     },
     "execution_count": 13,
     "metadata": {},
     "output_type": "execute_result"
    }
   ],
   "source": [
    "informe[\"pizza_types\"][\"desciption\"] = \"csv with information about each pizza and its ingredients\"\n",
    "informe[\"pizza_types\"][\"n_rows\"] = pizza_ingredients.shape[0]\n",
    "informe[\"pizza_types\"][\"n_columns\"] = pizza_ingredients.shape[1]\n",
    "informe[\"pizza_types\"][\"columns\"] = {}\n",
    "pizza_ingredients.head()"
   ]
  },
  {
   "cell_type": "markdown",
   "metadata": {},
   "source": [
    "pizza_type_id"
   ]
  },
  {
   "cell_type": "code",
   "execution_count": 14,
   "metadata": {},
   "outputs": [],
   "source": [
    "informe[\"pizza_types\"][\"columns\"][\"pizza_type_id\"] = {}\n",
    "informe[\"pizza_types\"][\"columns\"][\"pizza_type_id\"][\"description\"] = \"unique id for each pizza without size\"\n",
    "informe[\"pizza_types\"][\"columns\"][\"pizza_type_id\"][\"n_nulls\"] = pizza_ingredients[\"pizza_type_id\"].isnull().sum()\n",
    "informe[\"pizza_types\"][\"columns\"][\"pizza_type_id\"][\"n_unique\"] = pizza_ingredients[\"pizza_type_id\"].nunique()"
   ]
  },
  {
   "cell_type": "markdown",
   "metadata": {},
   "source": [
    "name"
   ]
  },
  {
   "cell_type": "code",
   "execution_count": 15,
   "metadata": {},
   "outputs": [],
   "source": [
    "informe[\"pizza_types\"][\"columns\"][\"name\"] = {}\n",
    "informe[\"pizza_types\"][\"columns\"][\"name\"][\"description\"] = \"full name of the pizza\"\n",
    "informe[\"pizza_types\"][\"columns\"][\"name\"][\"n_nulls\"] = pizza_ingredients[\"name\"].isnull().sum()\n",
    "informe[\"pizza_types\"][\"columns\"][\"name\"][\"n_unique\"] = pizza_ingredients[\"name\"].nunique()"
   ]
  },
  {
   "cell_type": "markdown",
   "metadata": {},
   "source": [
    "category"
   ]
  },
  {
   "cell_type": "code",
   "execution_count": 16,
   "metadata": {},
   "outputs": [],
   "source": [
    "informe[\"pizza_types\"][\"columns\"][\"category\"] = {}\n",
    "informe[\"pizza_types\"][\"columns\"][\"category\"][\"description\"] = \"category of the pizza\"\n",
    "informe[\"pizza_types\"][\"columns\"][\"category\"][\"n_nulls\"] = pizza_ingredients[\"category\"].isnull().sum()\n",
    "informe[\"pizza_types\"][\"columns\"][\"category\"][\"n_unique\"] = pizza_ingredients[\"category\"].nunique()"
   ]
  },
  {
   "cell_type": "markdown",
   "metadata": {},
   "source": [
    "ingredients"
   ]
  },
  {
   "cell_type": "code",
   "execution_count": 17,
   "metadata": {},
   "outputs": [],
   "source": [
    "informe[\"pizza_types\"][\"columns\"][\"ingredients\"] = {}\n",
    "informe[\"pizza_types\"][\"columns\"][\"ingredients\"][\"description\"] = \"ingredients of the pizza\"\n",
    "informe[\"pizza_types\"][\"columns\"][\"ingredients\"][\"n_nulls\"] = pizza_ingredients[\"ingredients\"].isnull().sum()\n",
    "informe[\"pizza_types\"][\"columns\"][\"ingredients\"][\"n_unique\"] = pizza_ingredients[\"ingredients\"].nunique()"
   ]
  },
  {
   "cell_type": "markdown",
   "metadata": {},
   "source": [
    "### Save report in json"
   ]
  },
  {
   "cell_type": "code",
   "execution_count": 18,
   "metadata": {},
   "outputs": [],
   "source": [
    "'''parse every int64 to python int'''\n",
    "def recursive_int64_to_int(x):\n",
    "    if isinstance(x, dict):\n",
    "        for key, value in x.items():\n",
    "            x[key] = recursive_int64_to_int(value)\n",
    "    elif isinstance(x, np.int64) or isinstance(x, np.int32):\n",
    "        x = int(x)\n",
    "    return x\n",
    "\n",
    "informe = recursive_int64_to_int(informe)\n",
    "json.dump(informe, open(\"informe_calidad_datos.json\", \"w\"), indent=4)"
   ]
  },
  {
   "cell_type": "markdown",
   "metadata": {},
   "source": [
    "## Transform Data"
   ]
  },
  {
   "cell_type": "markdown",
   "metadata": {},
   "source": [
    "- The task is to predict a ingredient distribution for a given day.  \n",
    "- To achieve that, the best way to store the data would be as a dataframe with dates\n",
    "as index and ingredients as columns,  \n",
    " so that each row is an ingredient distribution of that date, and can thus the dataframe can be directly used as the X data matrix in our model later on."
   ]
  },
  {
   "cell_type": "markdown",
   "metadata": {},
   "source": [
    "### Parse Types, Clean Data and Remove Irrelevant information"
   ]
  },
  {
   "cell_type": "markdown",
   "metadata": {},
   "source": [
    "orders"
   ]
  },
  {
   "cell_type": "code",
   "execution_count": 19,
   "metadata": {},
   "outputs": [],
   "source": [
    "'''Parse dates'''\n",
    "date_format = \"%d/%m/%Y\"\n",
    "orders[\"date\"] = pd.to_datetime(orders[\"date\"], format=date_format)\n",
    "'''Drop time column'''\n",
    "if \"time\" in orders.columns:\n",
    "    orders.drop(columns=[\"time\"], inplace=True)"
   ]
  },
  {
   "cell_type": "markdown",
   "metadata": {},
   "source": [
    "order_details"
   ]
  },
  {
   "cell_type": "code",
   "execution_count": 20,
   "metadata": {},
   "outputs": [],
   "source": [
    "'''Drop order_details_id column'''\n",
    "if \"order_details_id\" in order_details.columns:\n",
    "    order_details.drop(columns=[\"order_details_id\"], inplace=True)"
   ]
  },
  {
   "cell_type": "markdown",
   "metadata": {},
   "source": [
    "pizza_ingredients"
   ]
  },
  {
   "cell_type": "code",
   "execution_count": 21,
   "metadata": {},
   "outputs": [],
   "source": [
    "'''Replace ï¿½Nduja with Nduja, found a couple cells bellow exploring each ingredient.'''\n",
    "pizza_ingredients[\"ingredients\"] = pizza_ingredients[\"ingredients\"].str.replace(\"ï¿½Nduja\", \"Nduja\")\n",
    "'''Replace Artichoke with Artichokes, also found a couple cells bellow exploring each ingredient.'''\n",
    "pizza_ingredients[\"ingredients\"] = pizza_ingredients[\"ingredients\"].str.replace(\"Artichokes\", \"Artichoke\")\n",
    "'''Drop name and category columns.'''\n",
    "if \"name\" in pizza_ingredients.columns:\n",
    "    pizza_ingredients.drop(columns=[\"name\", \"category\"], inplace=True)\n",
    "if \"category\" in pizza_ingredients.columns:\n",
    "    pizza_ingredients.drop(columns=[\"category\"], inplace=True)"
   ]
  },
  {
   "cell_type": "markdown",
   "metadata": {},
   "source": [
    "### Build ingredients_per_day Dataframe"
   ]
  },
  {
   "cell_type": "markdown",
   "metadata": {},
   "source": [
    "Split pizza id into name and size"
   ]
  },
  {
   "cell_type": "code",
   "execution_count": 22,
   "metadata": {},
   "outputs": [],
   "source": [
    "if \"pizza_id\" in order_details.columns:\n",
    "    size_pattern = re.compile(r\"_([smlx]+)$\")\n",
    "    order_details[\"pizza\"] = order_details[\"pizza_id\"].apply(lambda x: re.sub(size_pattern, \"\", x))\n",
    "    order_details[\"size\"] = order_details[\"pizza_id\"].apply(lambda x: re.search(size_pattern, x).group(1))\n",
    "    order_details.drop(columns=[\"pizza_id\"], inplace=True)"
   ]
  },
  {
   "cell_type": "code",
   "execution_count": 23,
   "metadata": {},
   "outputs": [
    {
     "data": {
      "text/html": [
       "<div>\n",
       "<style scoped>\n",
       "    .dataframe tbody tr th:only-of-type {\n",
       "        vertical-align: middle;\n",
       "    }\n",
       "\n",
       "    .dataframe tbody tr th {\n",
       "        vertical-align: top;\n",
       "    }\n",
       "\n",
       "    .dataframe thead th {\n",
       "        text-align: right;\n",
       "    }\n",
       "</style>\n",
       "<table border=\"1\" class=\"dataframe\">\n",
       "  <thead>\n",
       "    <tr style=\"text-align: right;\">\n",
       "      <th></th>\n",
       "      <th>order_id</th>\n",
       "      <th>quantity</th>\n",
       "      <th>pizza</th>\n",
       "      <th>size</th>\n",
       "    </tr>\n",
       "  </thead>\n",
       "  <tbody>\n",
       "    <tr>\n",
       "      <th>0</th>\n",
       "      <td>1</td>\n",
       "      <td>1</td>\n",
       "      <td>hawaiian</td>\n",
       "      <td>m</td>\n",
       "    </tr>\n",
       "    <tr>\n",
       "      <th>1</th>\n",
       "      <td>2</td>\n",
       "      <td>1</td>\n",
       "      <td>classic_dlx</td>\n",
       "      <td>m</td>\n",
       "    </tr>\n",
       "    <tr>\n",
       "      <th>2</th>\n",
       "      <td>2</td>\n",
       "      <td>1</td>\n",
       "      <td>five_cheese</td>\n",
       "      <td>l</td>\n",
       "    </tr>\n",
       "  </tbody>\n",
       "</table>\n",
       "</div>"
      ],
      "text/plain": [
       "   order_id  quantity        pizza size\n",
       "0         1         1     hawaiian    m\n",
       "1         2         1  classic_dlx    m\n",
       "2         2         1  five_cheese    l"
      ]
     },
     "execution_count": 23,
     "metadata": {},
     "output_type": "execute_result"
    }
   ],
   "source": [
    "order_details.head(3)"
   ]
  },
  {
   "cell_type": "markdown",
   "metadata": {},
   "source": [
    "Add dates"
   ]
  },
  {
   "cell_type": "code",
   "execution_count": 24,
   "metadata": {},
   "outputs": [],
   "source": [
    "if not \"date\" in order_details.columns:\n",
    "    order_details=order_details.merge(orders, on=\"order_id\", how=\"left\")"
   ]
  },
  {
   "cell_type": "code",
   "execution_count": 25,
   "metadata": {},
   "outputs": [
    {
     "data": {
      "text/html": [
       "<div>\n",
       "<style scoped>\n",
       "    .dataframe tbody tr th:only-of-type {\n",
       "        vertical-align: middle;\n",
       "    }\n",
       "\n",
       "    .dataframe tbody tr th {\n",
       "        vertical-align: top;\n",
       "    }\n",
       "\n",
       "    .dataframe thead th {\n",
       "        text-align: right;\n",
       "    }\n",
       "</style>\n",
       "<table border=\"1\" class=\"dataframe\">\n",
       "  <thead>\n",
       "    <tr style=\"text-align: right;\">\n",
       "      <th></th>\n",
       "      <th>order_id</th>\n",
       "      <th>quantity</th>\n",
       "      <th>pizza</th>\n",
       "      <th>size</th>\n",
       "      <th>date</th>\n",
       "    </tr>\n",
       "  </thead>\n",
       "  <tbody>\n",
       "    <tr>\n",
       "      <th>0</th>\n",
       "      <td>1</td>\n",
       "      <td>1</td>\n",
       "      <td>hawaiian</td>\n",
       "      <td>m</td>\n",
       "      <td>2015-01-01</td>\n",
       "    </tr>\n",
       "    <tr>\n",
       "      <th>1</th>\n",
       "      <td>2</td>\n",
       "      <td>1</td>\n",
       "      <td>classic_dlx</td>\n",
       "      <td>m</td>\n",
       "      <td>2015-01-01</td>\n",
       "    </tr>\n",
       "    <tr>\n",
       "      <th>2</th>\n",
       "      <td>2</td>\n",
       "      <td>1</td>\n",
       "      <td>five_cheese</td>\n",
       "      <td>l</td>\n",
       "      <td>2015-01-01</td>\n",
       "    </tr>\n",
       "  </tbody>\n",
       "</table>\n",
       "</div>"
      ],
      "text/plain": [
       "   order_id  quantity        pizza size       date\n",
       "0         1         1     hawaiian    m 2015-01-01\n",
       "1         2         1  classic_dlx    m 2015-01-01\n",
       "2         2         1  five_cheese    l 2015-01-01"
      ]
     },
     "execution_count": 25,
     "metadata": {},
     "output_type": "execute_result"
    }
   ],
   "source": [
    "order_details.head(3)"
   ]
  },
  {
   "cell_type": "markdown",
   "metadata": {},
   "source": [
    "Add ingredients columns"
   ]
  },
  {
   "cell_type": "code",
   "execution_count": 26,
   "metadata": {},
   "outputs": [
    {
     "data": {
      "text/plain": [
       "{'Barbecued Chicken': 1,\n",
       " 'Red Peppers': 1,\n",
       " 'Green Peppers': 1,\n",
       " 'Tomatoes': 1,\n",
       " 'Red Onions': 1,\n",
       " 'Barbecue Sauce': 1}"
      ]
     },
     "execution_count": 26,
     "metadata": {},
     "output_type": "execute_result"
    }
   ],
   "source": [
    "'''Dictionary with each pizza and the ingredients it has.'''\n",
    "pizza_ingredients_dict = {}\n",
    "for index, row in pizza_ingredients.iterrows():\n",
    "    pizza_ingredients_dict[row[\"pizza_type_id\"]] = {}\n",
    "    for ingredient in row[\"ingredients\"].split(\",\"):\n",
    "        pizza_ingredients_dict[row[\"pizza_type_id\"]][ingredient.strip()] = 1\n",
    "pizza_ingredients_dict['bbq_ckn']"
   ]
  },
  {
   "cell_type": "code",
   "execution_count": 27,
   "metadata": {},
   "outputs": [
    {
     "data": {
      "text/plain": [
       "['Alfredo Sauce',\n",
       " 'Anchovies',\n",
       " 'Artichoke',\n",
       " 'Arugula',\n",
       " 'Asiago Cheese',\n",
       " 'Bacon',\n",
       " 'Barbecue Sauce',\n",
       " 'Barbecued Chicken',\n",
       " 'Beef Chuck Roast',\n",
       " 'Blue Cheese',\n",
       " 'Brie Carre Cheese',\n",
       " 'Calabrese Salami',\n",
       " 'Capocollo',\n",
       " 'Caramelized Onions',\n",
       " 'Chicken',\n",
       " 'Chipotle Sauce',\n",
       " 'Chorizo Sausage',\n",
       " 'Cilantro',\n",
       " 'Coarse Sicilian Salami',\n",
       " 'Corn',\n",
       " 'Eggplant',\n",
       " 'Feta Cheese',\n",
       " 'Fontina Cheese',\n",
       " 'Friggitello Peppers',\n",
       " 'Garlic',\n",
       " 'Genoa Salami',\n",
       " 'Goat Cheese',\n",
       " 'Gorgonzola Piccante Cheese',\n",
       " 'Gouda Cheese',\n",
       " 'Green Olives',\n",
       " 'Green Peppers',\n",
       " 'Italian Sausage',\n",
       " 'Jalapeno Peppers',\n",
       " 'Kalamata Olives',\n",
       " 'Luganega Sausage',\n",
       " 'Mozzarella Cheese',\n",
       " 'Mushrooms',\n",
       " 'Nduja Salami',\n",
       " 'Onions',\n",
       " 'Oregano',\n",
       " 'Pancetta',\n",
       " 'Parmigiano Reggiano Cheese',\n",
       " 'Pears',\n",
       " 'Peperoncini verdi',\n",
       " 'Pepperoni',\n",
       " 'Pesto Sauce',\n",
       " 'Pineapple',\n",
       " 'Plum Tomatoes',\n",
       " 'Prosciutto',\n",
       " 'Prosciutto di San Daniele',\n",
       " 'Provolone Cheese',\n",
       " 'Red Onions',\n",
       " 'Red Peppers',\n",
       " 'Ricotta Cheese',\n",
       " 'Romano Cheese',\n",
       " 'Sliced Ham',\n",
       " 'Smoked Gouda Cheese',\n",
       " 'Soppressata Salami',\n",
       " 'Spinach',\n",
       " 'Sun-dried Tomatoes',\n",
       " 'Thai Sweet Chilli Sauce',\n",
       " 'Thyme',\n",
       " 'Tomatoes',\n",
       " 'Zucchini']"
      ]
     },
     "execution_count": 27,
     "metadata": {},
     "output_type": "execute_result"
    }
   ],
   "source": [
    "'''Set with all the ingredients.'''\n",
    "ingredients_set = set()\n",
    "for pizza in pizza_ingredients_dict:\n",
    "    ingredients_set.update(pizza_ingredients_dict[pizza])\n",
    "sorted(list(ingredients_set))"
   ]
  },
  {
   "cell_type": "markdown",
   "metadata": {},
   "source": [
    "Add a column for each ingredient"
   ]
  },
  {
   "cell_type": "code",
   "execution_count": 28,
   "metadata": {},
   "outputs": [],
   "source": [
    "for ing in ingredients_set:\n",
    "    order_details[ing] = order_details[\"pizza\"].apply(lambda x: pizza_ingredients_dict[x].get(ing, 0))"
   ]
  },
  {
   "cell_type": "code",
   "execution_count": 29,
   "metadata": {},
   "outputs": [
    {
     "data": {
      "text/html": [
       "<div>\n",
       "<style scoped>\n",
       "    .dataframe tbody tr th:only-of-type {\n",
       "        vertical-align: middle;\n",
       "    }\n",
       "\n",
       "    .dataframe tbody tr th {\n",
       "        vertical-align: top;\n",
       "    }\n",
       "\n",
       "    .dataframe thead th {\n",
       "        text-align: right;\n",
       "    }\n",
       "</style>\n",
       "<table border=\"1\" class=\"dataframe\">\n",
       "  <thead>\n",
       "    <tr style=\"text-align: right;\">\n",
       "      <th></th>\n",
       "      <th>order_id</th>\n",
       "      <th>quantity</th>\n",
       "      <th>pizza</th>\n",
       "      <th>size</th>\n",
       "      <th>date</th>\n",
       "      <th>Arugula</th>\n",
       "      <th>Genoa Salami</th>\n",
       "      <th>Coarse Sicilian Salami</th>\n",
       "      <th>Anchovies</th>\n",
       "      <th>Feta Cheese</th>\n",
       "      <th>...</th>\n",
       "      <th>Calabrese Salami</th>\n",
       "      <th>Asiago Cheese</th>\n",
       "      <th>Red Onions</th>\n",
       "      <th>Prosciutto</th>\n",
       "      <th>Gorgonzola Piccante Cheese</th>\n",
       "      <th>Spinach</th>\n",
       "      <th>Pesto Sauce</th>\n",
       "      <th>Bacon</th>\n",
       "      <th>Nduja Salami</th>\n",
       "      <th>Jalapeno Peppers</th>\n",
       "    </tr>\n",
       "  </thead>\n",
       "  <tbody>\n",
       "    <tr>\n",
       "      <th>0</th>\n",
       "      <td>1</td>\n",
       "      <td>1</td>\n",
       "      <td>hawaiian</td>\n",
       "      <td>m</td>\n",
       "      <td>2015-01-01</td>\n",
       "      <td>0</td>\n",
       "      <td>0</td>\n",
       "      <td>0</td>\n",
       "      <td>0</td>\n",
       "      <td>0</td>\n",
       "      <td>...</td>\n",
       "      <td>0</td>\n",
       "      <td>0</td>\n",
       "      <td>0</td>\n",
       "      <td>0</td>\n",
       "      <td>0</td>\n",
       "      <td>0</td>\n",
       "      <td>0</td>\n",
       "      <td>0</td>\n",
       "      <td>0</td>\n",
       "      <td>0</td>\n",
       "    </tr>\n",
       "    <tr>\n",
       "      <th>1</th>\n",
       "      <td>2</td>\n",
       "      <td>1</td>\n",
       "      <td>classic_dlx</td>\n",
       "      <td>m</td>\n",
       "      <td>2015-01-01</td>\n",
       "      <td>0</td>\n",
       "      <td>0</td>\n",
       "      <td>0</td>\n",
       "      <td>0</td>\n",
       "      <td>0</td>\n",
       "      <td>...</td>\n",
       "      <td>0</td>\n",
       "      <td>0</td>\n",
       "      <td>1</td>\n",
       "      <td>0</td>\n",
       "      <td>0</td>\n",
       "      <td>0</td>\n",
       "      <td>0</td>\n",
       "      <td>1</td>\n",
       "      <td>0</td>\n",
       "      <td>0</td>\n",
       "    </tr>\n",
       "    <tr>\n",
       "      <th>2</th>\n",
       "      <td>2</td>\n",
       "      <td>1</td>\n",
       "      <td>five_cheese</td>\n",
       "      <td>l</td>\n",
       "      <td>2015-01-01</td>\n",
       "      <td>0</td>\n",
       "      <td>0</td>\n",
       "      <td>0</td>\n",
       "      <td>0</td>\n",
       "      <td>0</td>\n",
       "      <td>...</td>\n",
       "      <td>0</td>\n",
       "      <td>0</td>\n",
       "      <td>0</td>\n",
       "      <td>0</td>\n",
       "      <td>0</td>\n",
       "      <td>0</td>\n",
       "      <td>0</td>\n",
       "      <td>0</td>\n",
       "      <td>0</td>\n",
       "      <td>0</td>\n",
       "    </tr>\n",
       "  </tbody>\n",
       "</table>\n",
       "<p>3 rows × 69 columns</p>\n",
       "</div>"
      ],
      "text/plain": [
       "   order_id  quantity        pizza size       date  Arugula  Genoa Salami  \\\n",
       "0         1         1     hawaiian    m 2015-01-01        0             0   \n",
       "1         2         1  classic_dlx    m 2015-01-01        0             0   \n",
       "2         2         1  five_cheese    l 2015-01-01        0             0   \n",
       "\n",
       "   Coarse Sicilian Salami  Anchovies  Feta Cheese  ...  Calabrese Salami  \\\n",
       "0                       0          0            0  ...                 0   \n",
       "1                       0          0            0  ...                 0   \n",
       "2                       0          0            0  ...                 0   \n",
       "\n",
       "   Asiago Cheese  Red Onions  Prosciutto  Gorgonzola Piccante Cheese  Spinach  \\\n",
       "0              0           0           0                           0        0   \n",
       "1              0           1           0                           0        0   \n",
       "2              0           0           0                           0        0   \n",
       "\n",
       "   Pesto Sauce  Bacon  Nduja Salami  Jalapeno Peppers  \n",
       "0            0      0             0                 0  \n",
       "1            0      1             0                 0  \n",
       "2            0      0             0                 0  \n",
       "\n",
       "[3 rows x 69 columns]"
      ]
     },
     "execution_count": 29,
     "metadata": {},
     "output_type": "execute_result"
    }
   ],
   "source": [
    "order_details.head(3)"
   ]
  },
  {
   "cell_type": "markdown",
   "metadata": {},
   "source": [
    "Weight each ingredient by pizza size"
   ]
  },
  {
   "cell_type": "code",
   "execution_count": 30,
   "metadata": {},
   "outputs": [],
   "source": [
    "size_weights = {\"s\": 1, \"m\": 2, \"l\": 3, \"xl\": 4, \"xxl\": 5}\n",
    "order_details[\"num_size\"] = order_details[\"size\"].apply(lambda x: size_weights[x])"
   ]
  },
  {
   "cell_type": "code",
   "execution_count": 31,
   "metadata": {},
   "outputs": [
    {
     "data": {
      "text/html": [
       "<div>\n",
       "<style scoped>\n",
       "    .dataframe tbody tr th:only-of-type {\n",
       "        vertical-align: middle;\n",
       "    }\n",
       "\n",
       "    .dataframe tbody tr th {\n",
       "        vertical-align: top;\n",
       "    }\n",
       "\n",
       "    .dataframe thead th {\n",
       "        text-align: right;\n",
       "    }\n",
       "</style>\n",
       "<table border=\"1\" class=\"dataframe\">\n",
       "  <thead>\n",
       "    <tr style=\"text-align: right;\">\n",
       "      <th></th>\n",
       "      <th>order_id</th>\n",
       "      <th>quantity</th>\n",
       "      <th>pizza</th>\n",
       "      <th>size</th>\n",
       "      <th>date</th>\n",
       "      <th>Arugula</th>\n",
       "      <th>Genoa Salami</th>\n",
       "      <th>Coarse Sicilian Salami</th>\n",
       "      <th>Anchovies</th>\n",
       "      <th>Feta Cheese</th>\n",
       "      <th>...</th>\n",
       "      <th>Asiago Cheese</th>\n",
       "      <th>Red Onions</th>\n",
       "      <th>Prosciutto</th>\n",
       "      <th>Gorgonzola Piccante Cheese</th>\n",
       "      <th>Spinach</th>\n",
       "      <th>Pesto Sauce</th>\n",
       "      <th>Bacon</th>\n",
       "      <th>Nduja Salami</th>\n",
       "      <th>Jalapeno Peppers</th>\n",
       "      <th>num_size</th>\n",
       "    </tr>\n",
       "  </thead>\n",
       "  <tbody>\n",
       "    <tr>\n",
       "      <th>0</th>\n",
       "      <td>1</td>\n",
       "      <td>1</td>\n",
       "      <td>hawaiian</td>\n",
       "      <td>m</td>\n",
       "      <td>2015-01-01</td>\n",
       "      <td>0</td>\n",
       "      <td>0</td>\n",
       "      <td>0</td>\n",
       "      <td>0</td>\n",
       "      <td>0</td>\n",
       "      <td>...</td>\n",
       "      <td>0</td>\n",
       "      <td>0</td>\n",
       "      <td>0</td>\n",
       "      <td>0</td>\n",
       "      <td>0</td>\n",
       "      <td>0</td>\n",
       "      <td>0</td>\n",
       "      <td>0</td>\n",
       "      <td>0</td>\n",
       "      <td>2</td>\n",
       "    </tr>\n",
       "    <tr>\n",
       "      <th>1</th>\n",
       "      <td>2</td>\n",
       "      <td>1</td>\n",
       "      <td>classic_dlx</td>\n",
       "      <td>m</td>\n",
       "      <td>2015-01-01</td>\n",
       "      <td>0</td>\n",
       "      <td>0</td>\n",
       "      <td>0</td>\n",
       "      <td>0</td>\n",
       "      <td>0</td>\n",
       "      <td>...</td>\n",
       "      <td>0</td>\n",
       "      <td>2</td>\n",
       "      <td>0</td>\n",
       "      <td>0</td>\n",
       "      <td>0</td>\n",
       "      <td>0</td>\n",
       "      <td>2</td>\n",
       "      <td>0</td>\n",
       "      <td>0</td>\n",
       "      <td>2</td>\n",
       "    </tr>\n",
       "    <tr>\n",
       "      <th>2</th>\n",
       "      <td>2</td>\n",
       "      <td>1</td>\n",
       "      <td>five_cheese</td>\n",
       "      <td>l</td>\n",
       "      <td>2015-01-01</td>\n",
       "      <td>0</td>\n",
       "      <td>0</td>\n",
       "      <td>0</td>\n",
       "      <td>0</td>\n",
       "      <td>0</td>\n",
       "      <td>...</td>\n",
       "      <td>0</td>\n",
       "      <td>0</td>\n",
       "      <td>0</td>\n",
       "      <td>0</td>\n",
       "      <td>0</td>\n",
       "      <td>0</td>\n",
       "      <td>0</td>\n",
       "      <td>0</td>\n",
       "      <td>0</td>\n",
       "      <td>3</td>\n",
       "    </tr>\n",
       "  </tbody>\n",
       "</table>\n",
       "<p>3 rows × 70 columns</p>\n",
       "</div>"
      ],
      "text/plain": [
       "   order_id  quantity        pizza size       date  Arugula  Genoa Salami  \\\n",
       "0         1         1     hawaiian    m 2015-01-01        0             0   \n",
       "1         2         1  classic_dlx    m 2015-01-01        0             0   \n",
       "2         2         1  five_cheese    l 2015-01-01        0             0   \n",
       "\n",
       "   Coarse Sicilian Salami  Anchovies  Feta Cheese  ...  Asiago Cheese  \\\n",
       "0                       0          0            0  ...              0   \n",
       "1                       0          0            0  ...              0   \n",
       "2                       0          0            0  ...              0   \n",
       "\n",
       "   Red Onions  Prosciutto  Gorgonzola Piccante Cheese  Spinach  Pesto Sauce  \\\n",
       "0           0           0                           0        0            0   \n",
       "1           2           0                           0        0            0   \n",
       "2           0           0                           0        0            0   \n",
       "\n",
       "   Bacon  Nduja Salami  Jalapeno Peppers  num_size  \n",
       "0      0             0                 0         2  \n",
       "1      2             0                 0         2  \n",
       "2      0             0                 0         3  \n",
       "\n",
       "[3 rows x 70 columns]"
      ]
     },
     "execution_count": 31,
     "metadata": {},
     "output_type": "execute_result"
    }
   ],
   "source": [
    "if not already_multiplied:\n",
    "    for ing in ingredients_set:\n",
    "        order_details[ing] = order_details[ing] * order_details[\"quantity\"] * order_details[\"num_size\"]\n",
    "    already_multiplied = True\n",
    "order_details.head(3)"
   ]
  },
  {
   "cell_type": "code",
   "execution_count": 32,
   "metadata": {},
   "outputs": [],
   "source": [
    "'''Dataframe with ingredients for each day.'''\n",
    "columns = [\"date\"] + list(ingredients_set)\n",
    "ingredients_per_day = order_details[columns].groupby(\"date\").sum()"
   ]
  },
  {
   "cell_type": "code",
   "execution_count": 33,
   "metadata": {},
   "outputs": [],
   "source": [
    "'''Sort ingredient columns by alphabetical order.'''\n",
    "ingredients_per_day = ingredients_per_day.reindex(sorted(ingredients_per_day.columns), axis=1)"
   ]
  },
  {
   "cell_type": "code",
   "execution_count": 34,
   "metadata": {},
   "outputs": [
    {
     "data": {
      "text/html": [
       "<div>\n",
       "<style scoped>\n",
       "    .dataframe tbody tr th:only-of-type {\n",
       "        vertical-align: middle;\n",
       "    }\n",
       "\n",
       "    .dataframe tbody tr th {\n",
       "        vertical-align: top;\n",
       "    }\n",
       "\n",
       "    .dataframe thead th {\n",
       "        text-align: right;\n",
       "    }\n",
       "</style>\n",
       "<table border=\"1\" class=\"dataframe\">\n",
       "  <thead>\n",
       "    <tr style=\"text-align: right;\">\n",
       "      <th></th>\n",
       "      <th>Alfredo Sauce</th>\n",
       "      <th>Anchovies</th>\n",
       "      <th>Artichoke</th>\n",
       "      <th>Arugula</th>\n",
       "      <th>Asiago Cheese</th>\n",
       "      <th>Bacon</th>\n",
       "      <th>Barbecue Sauce</th>\n",
       "      <th>Barbecued Chicken</th>\n",
       "      <th>Beef Chuck Roast</th>\n",
       "      <th>Blue Cheese</th>\n",
       "      <th>...</th>\n",
       "      <th>Romano Cheese</th>\n",
       "      <th>Sliced Ham</th>\n",
       "      <th>Smoked Gouda Cheese</th>\n",
       "      <th>Soppressata Salami</th>\n",
       "      <th>Spinach</th>\n",
       "      <th>Sun-dried Tomatoes</th>\n",
       "      <th>Thai Sweet Chilli Sauce</th>\n",
       "      <th>Thyme</th>\n",
       "      <th>Tomatoes</th>\n",
       "      <th>Zucchini</th>\n",
       "    </tr>\n",
       "    <tr>\n",
       "      <th>date</th>\n",
       "      <th></th>\n",
       "      <th></th>\n",
       "      <th></th>\n",
       "      <th></th>\n",
       "      <th></th>\n",
       "      <th></th>\n",
       "      <th></th>\n",
       "      <th></th>\n",
       "      <th></th>\n",
       "      <th></th>\n",
       "      <th></th>\n",
       "      <th></th>\n",
       "      <th></th>\n",
       "      <th></th>\n",
       "      <th></th>\n",
       "      <th></th>\n",
       "      <th></th>\n",
       "      <th></th>\n",
       "      <th></th>\n",
       "      <th></th>\n",
       "      <th></th>\n",
       "    </tr>\n",
       "  </thead>\n",
       "  <tbody>\n",
       "    <tr>\n",
       "      <th>2015-01-01</th>\n",
       "      <td>3</td>\n",
       "      <td>4</td>\n",
       "      <td>43</td>\n",
       "      <td>9</td>\n",
       "      <td>18</td>\n",
       "      <td>24</td>\n",
       "      <td>27</td>\n",
       "      <td>27</td>\n",
       "      <td>8</td>\n",
       "      <td>21</td>\n",
       "      <td>...</td>\n",
       "      <td>21</td>\n",
       "      <td>7</td>\n",
       "      <td>21</td>\n",
       "      <td>3</td>\n",
       "      <td>60</td>\n",
       "      <td>11</td>\n",
       "      <td>22</td>\n",
       "      <td>0</td>\n",
       "      <td>227</td>\n",
       "      <td>7</td>\n",
       "    </tr>\n",
       "    <tr>\n",
       "      <th>2015-01-02</th>\n",
       "      <td>2</td>\n",
       "      <td>14</td>\n",
       "      <td>69</td>\n",
       "      <td>9</td>\n",
       "      <td>24</td>\n",
       "      <td>19</td>\n",
       "      <td>19</td>\n",
       "      <td>19</td>\n",
       "      <td>14</td>\n",
       "      <td>18</td>\n",
       "      <td>...</td>\n",
       "      <td>18</td>\n",
       "      <td>21</td>\n",
       "      <td>18</td>\n",
       "      <td>12</td>\n",
       "      <td>61</td>\n",
       "      <td>7</td>\n",
       "      <td>19</td>\n",
       "      <td>0</td>\n",
       "      <td>220</td>\n",
       "      <td>21</td>\n",
       "    </tr>\n",
       "    <tr>\n",
       "      <th>2015-01-03</th>\n",
       "      <td>13</td>\n",
       "      <td>11</td>\n",
       "      <td>67</td>\n",
       "      <td>12</td>\n",
       "      <td>30</td>\n",
       "      <td>18</td>\n",
       "      <td>16</td>\n",
       "      <td>16</td>\n",
       "      <td>21</td>\n",
       "      <td>12</td>\n",
       "      <td>...</td>\n",
       "      <td>12</td>\n",
       "      <td>18</td>\n",
       "      <td>12</td>\n",
       "      <td>3</td>\n",
       "      <td>78</td>\n",
       "      <td>19</td>\n",
       "      <td>23</td>\n",
       "      <td>1</td>\n",
       "      <td>195</td>\n",
       "      <td>23</td>\n",
       "    </tr>\n",
       "  </tbody>\n",
       "</table>\n",
       "<p>3 rows × 64 columns</p>\n",
       "</div>"
      ],
      "text/plain": [
       "            Alfredo Sauce  Anchovies  Artichoke  Arugula  Asiago Cheese  \\\n",
       "date                                                                      \n",
       "2015-01-01              3          4         43        9             18   \n",
       "2015-01-02              2         14         69        9             24   \n",
       "2015-01-03             13         11         67       12             30   \n",
       "\n",
       "            Bacon  Barbecue Sauce  Barbecued Chicken  Beef Chuck Roast  \\\n",
       "date                                                                     \n",
       "2015-01-01     24              27                 27                 8   \n",
       "2015-01-02     19              19                 19                14   \n",
       "2015-01-03     18              16                 16                21   \n",
       "\n",
       "            Blue Cheese  ...  Romano Cheese  Sliced Ham  Smoked Gouda Cheese  \\\n",
       "date                     ...                                                   \n",
       "2015-01-01           21  ...             21           7                   21   \n",
       "2015-01-02           18  ...             18          21                   18   \n",
       "2015-01-03           12  ...             12          18                   12   \n",
       "\n",
       "            Soppressata Salami  Spinach  Sun-dried Tomatoes  \\\n",
       "date                                                          \n",
       "2015-01-01                   3       60                  11   \n",
       "2015-01-02                  12       61                   7   \n",
       "2015-01-03                   3       78                  19   \n",
       "\n",
       "            Thai Sweet Chilli Sauce  Thyme  Tomatoes  Zucchini  \n",
       "date                                                            \n",
       "2015-01-01                       22      0       227         7  \n",
       "2015-01-02                       19      0       220        21  \n",
       "2015-01-03                       23      1       195        23  \n",
       "\n",
       "[3 rows x 64 columns]"
      ]
     },
     "execution_count": 34,
     "metadata": {},
     "output_type": "execute_result"
    }
   ],
   "source": [
    "ingredients_per_day.head(3)"
   ]
  },
  {
   "cell_type": "markdown",
   "metadata": {},
   "source": [
    "## Load"
   ]
  },
  {
   "cell_type": "code",
   "execution_count": 35,
   "metadata": {},
   "outputs": [],
   "source": [
    "ingredients_per_day.to_csv(\"data/ingredients_per_day_2015.csv\")"
   ]
  }
 ],
 "metadata": {
  "kernelspec": {
   "display_name": "Python 3.10.6 64-bit",
   "language": "python",
   "name": "python3"
  },
  "language_info": {
   "codemirror_mode": {
    "name": "ipython",
    "version": 3
   },
   "file_extension": ".py",
   "mimetype": "text/x-python",
   "name": "python",
   "nbconvert_exporter": "python",
   "pygments_lexer": "ipython3",
   "version": "3.10.6"
  },
  "orig_nbformat": 4,
  "vscode": {
   "interpreter": {
    "hash": "841fed4330da2c0f186905de144ecf4da6db16f0ca1e7f45a0769cc74be68adf"
   }
  }
 },
 "nbformat": 4,
 "nbformat_minor": 2
}
